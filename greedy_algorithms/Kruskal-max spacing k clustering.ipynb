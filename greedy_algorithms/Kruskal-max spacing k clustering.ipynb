{
 "cells": [
  {
   "cell_type": "code",
   "execution_count": null,
   "metadata": {},
   "outputs": [],
   "source": [
    "node_1 =[]\n",
    "node_2 = []\n",
    "cost = []\n",
    "\n",
    "with open('clustering.txt') as r:\n",
    "    "
   ]
  },
  {
   "cell_type": "code",
   "execution_count": 110,
   "metadata": {},
   "outputs": [],
   "source": [
    "# kruskal's MST algorithm with union find by rank\n",
    "\n",
    "## graph format\n",
    "g = {'nodes': ['1','2','3','4'], \n",
    "    'edges': [(1, '1', '2'), (100, '1','3'), (1,'2','4'), (10,'2','3'), (1,'3','4')]}\n",
    "\n",
    "parent = dict() # parent['node'] <- parent of any given node \n",
    "rank = dict() # rank['node'] <- rank of \n",
    "\n",
    "def set_parent(node):\n",
    "    parent[node] = node\n",
    "    rank[node] = 0\n",
    "        \n",
    "def find(node):\n",
    "    if parent[node] != node:\n",
    "        parent[node] = find(parent[node])\n",
    "    return parent[node]\n",
    "\n",
    "def union(node1, node2):\n",
    "    root1 = find(node1)\n",
    "    root2 = find(node2)\n",
    "    if rank[root1] > rank[root2]: # if root1 is part of larger tree\n",
    "        parent[node2] = parent[node1]\n",
    "    else: # root2 has an equal or larger tree\n",
    "        parent[node1] = parent[node2]\n",
    "    if rank[root1] == rank[root2]: # if trees equaal in size\n",
    "        rank[root2] += 1 # increase rank size\n",
    "        \n",
    "def kruskal(graph):\n",
    "    for node in graph['nodes']:\n",
    "        set_parent(node)\n",
    "    mst = set() # can only represent a node once\n",
    "    edges = graph['edges']\n",
    "    edges.sort() # sort according to weight\n",
    "    print(edges)\n",
    "    for edge in edges:\n",
    "        (edges, n1, n2) = edge\n",
    "        if find(n1) != find(n2): # if both nodes do not already belong to the same tree\n",
    "            union(n1,n2)\n",
    "            mst.add(edge)\n",
    "    return mst"
   ]
  },
  {
   "cell_type": "code",
   "execution_count": 34,
   "metadata": {
    "scrolled": false
   },
   "outputs": [
    {
     "name": "stdout",
     "output_type": "stream",
     "text": [
      "[(1, '1', '2'), (1, '2', '4'), (1, '3', '4'), (10, '2', '3'), (100, '1', '3')]\n",
      "{(1, '2', '4'), (1, '1', '2'), (1, '3', '4')}\n"
     ]
    }
   ],
   "source": [
    "print(kruskal(g))"
   ]
  },
  {
   "cell_type": "code",
   "execution_count": null,
   "metadata": {},
   "outputs": [],
   "source": []
  },
  {
   "cell_type": "code",
   "execution_count": 300,
   "metadata": {},
   "outputs": [],
   "source": [
    "\n",
    "## graph format\n",
    "'''g = {'nodes': ['1','2','3','4'], \n",
    "    'edges': [(1, '1', '2'), (100, '1','3'), (1,'2','4'), (10,'2','3'), (1,'3','4')]}\n",
    "'''\n",
    "parent = dict() # parent['node'] <- parent of any given node \n",
    "rank = dict() # rank['node'] <- rank of \n",
    "clusters = set()\n",
    "\n",
    "def set_parent(node):\n",
    "    parent[node] = node \n",
    "    clusters.add(node) #all clusters  \n",
    "    rank[node] = 0\n",
    "    \n",
    "        \n",
    "def find(node):\n",
    "    if parent[node] != node:\n",
    "        parent[node] = find(parent[node])\n",
    "    return parent[node]\n",
    "\n",
    "def union(node1, node2):\n",
    "    root1 = find(node1)\n",
    "    root2 = find(node2)\n",
    "    if rank[root1] > rank[root2]: # if root1 is part of larger tree\n",
    "        #print(node2, ' is getting merged into ', node1, ' tree')\n",
    "        parent[root2] = root1        \n",
    "        clusters.remove(root2)\n",
    "    else: # root2 has an equal or larger tree\n",
    "        #print(node1, ' is getting merged into ', node2, ' tree')\n",
    "        parent[root1] = root2\n",
    "        clusters.remove(root1) # remove node from clusters\n",
    "    if rank[root1] == rank[root2]: # if trees equaal in size\n",
    "        rank[root2] += 1 # increase rank size\n",
    "    \n",
    "        \n",
    "def max_spacing(graph, k):\n",
    "    for node in graph['nodes']:\n",
    "        set_parent(node)\n",
    "    edges = graph['edges']\n",
    "    edges.sort() # sort according to weight\n",
    "    while len(clusters) > k:\n",
    "        (cost, n1, n2)= edges.pop(0)\n",
    "        #union(n1,n2)\n",
    "        if find(n1) != find(n2): # if both nodes do not already belong to the same tree\n",
    "            union(n1,n2)\n",
    "    \n",
    "    spacing = dict()\n",
    "    for (cost, n1, n2) in edges:\n",
    "        root1 = find(n1)\n",
    "        root2 = find(n2)\n",
    "        if root1 != root2:\n",
    "            if (root1, root2) not in spacing:\n",
    "                spacing[(root1,root2)]= [cost]\n",
    "            else:\n",
    "                spacing[(root1,root2)].append(cost) # all crossing edges \n",
    "    return(spacing)\n",
    "        \n"
   ]
  },
  {
   "cell_type": "code",
   "execution_count": 304,
   "metadata": {},
   "outputs": [],
   "source": [
    "# assignment part one\n",
    "graph = {'nodes':[], 'edges':[]}\n",
    "\n",
    "with open('clustering1.txt') as f:\n",
    "    i = 0\n",
    "    for line in f.readlines():\n",
    "        if i == 0:\n",
    "            graph['nodes'] = [x for x in range(1,int(line)+1)]\n",
    "        else:\n",
    "            x = line.split('\\n')[0].split(' ')\n",
    "            graph['edges'].append((int(x[2]),int(x[0]),int(x[1])))\n",
    "        i+=1\n",
    "        "
   ]
  },
  {
   "cell_type": "code",
   "execution_count": 305,
   "metadata": {
    "scrolled": false
   },
   "outputs": [],
   "source": [
    "spaces = max_spacing(graph,4)"
   ]
  },
  {
   "cell_type": "code",
   "execution_count": 312,
   "metadata": {
    "scrolled": true
   },
   "outputs": [
    {
     "data": {
      "text/plain": [
       "{(414, 112): 106,\n",
       " (112, 462): 107,\n",
       " (112, 384): 123,\n",
       " (112, 414): 136,\n",
       " (384, 112): 204,\n",
       " (462, 112): 571,\n",
       " (414, 462): 746,\n",
       " (384, 414): 1162,\n",
       " (384, 462): 1641}"
      ]
     },
     "execution_count": 312,
     "metadata": {},
     "output_type": "execute_result"
    }
   ],
   "source": [
    "{x: min(spaces[x]) for x in spaces} # ans 106"
   ]
  },
  {
   "cell_type": "markdown",
   "metadata": {},
   "source": [
    "# Part 2"
   ]
  },
  {
   "cell_type": "code",
   "execution_count": 369,
   "metadata": {},
   "outputs": [],
   "source": [
    "# df structure: \n",
    "#{'bits': parent node}\n",
    "\n",
    "def make_graph(file):\n",
    "    df = dict()\n",
    "    df2 = set()\n",
    "    rank = dict()\n",
    "    length= 0\n",
    "    i = 0\n",
    "    with open(file) as f:\n",
    "        for line in f.readlines():\n",
    "            if i == 0:\n",
    "                length = int(line.strip('\\n').split(' ')[1])\n",
    "                i += 1\n",
    "            else:\n",
    "                val = line.strip('\\n').replace(' ', '')\n",
    "                df[val] = val #set parent to itself - automatically omits identical vals\n",
    "                rank[val] = 0\n",
    "                df2.add(val)\n",
    "                i+=1\n",
    "    return df, df2, rank, length\n"
   ]
  },
  {
   "cell_type": "code",
   "execution_count": 396,
   "metadata": {},
   "outputs": [],
   "source": [
    "def one_off(string, position):\n",
    "    if string[position] == '1':\n",
    "        return string[0:position]+'0'+string[position+1:]\n",
    "    else:\n",
    "        return string[0:position]+'1'+string[position+1:]"
   ]
  },
  {
   "cell_type": "code",
   "execution_count": 403,
   "metadata": {},
   "outputs": [],
   "source": [
    "#function for generating one and two off values\n",
    "## can be further improved \n",
    "def two_off(string, length):\n",
    "    test = set()\n",
    "    for i in range(length):\n",
    "        one = one_off(string,i)\n",
    "        test.add(one_off(string,i))\n",
    "        for j in range(length):\n",
    "            two = one_off(one, j)\n",
    "            if two != string:\n",
    "                test.add(two)\n",
    "    return test"
   ]
  },
  {
   "cell_type": "code",
   "execution_count": 511,
   "metadata": {},
   "outputs": [],
   "source": [
    "def find(node):\n",
    "    if parent[node] != node:\n",
    "        parent[node] = find(parent[node])\n",
    "    return parent[node]\n",
    "\n",
    "def union(node1, node2):\n",
    "    root1 = find(node1)\n",
    "    root2 = find(node2)\n",
    "    if root1 == root2:\n",
    "        return\n",
    "    if rank[root1] > rank[root2]: # if root1 is part of larger tree\n",
    "        parent[root2] = root1\n",
    "        nodes.remove(root2)\n",
    "    else: # root2 has an equal or larger tree\n",
    "        parent[root1] = root2\n",
    "        nodes.remove(root1) # remove node from clusters        \n",
    "    if rank[root1] == rank[root2]: # if trees equaal in size\n",
    "        rank[root2] += 1 # increase rank size"
   ]
  },
  {
   "cell_type": "code",
   "execution_count": 514,
   "metadata": {},
   "outputs": [],
   "source": [
    "# generate {node: parent (self)} with file generate set of unique nodes, ranks = 0\n",
    "\n",
    "##parent, nodes, rank, length = make_graph('clustering_big.txt')\n",
    "\n",
    "def clustering_big(parent, nodes, rank, length):\n",
    "    # for each node generate a set of values that are two-off\n",
    "    working_set = list(nodes)\n",
    "    while len(working_set) > 0:\n",
    "        node = working_set.pop()\n",
    "        findlist = two_off(node, length)\n",
    "    # for each value in two-off set, extract root from hash table,\n",
    "        for simnode in findlist:\n",
    "            if simnode in nodes:\n",
    "        # perform union-by-rank, update hashtable with new parents,\n",
    "        # delete node from set (containing only root nodes)\n",
    "                    #print(len(nodes))    \n",
    "                union(node, simnode)\n",
    "            else:\n",
    "                continue\n",
    "        \n",
    "        \n",
    "    # count number of items in parent nodes when loop ends: answer\n",
    "    return len(nodes)"
   ]
  },
  {
   "cell_type": "code",
   "execution_count": 513,
   "metadata": {},
   "outputs": [],
   "source": [
    "parent, nodes, rank, length = make_graph('clustering_big.txt')"
   ]
  },
  {
   "cell_type": "code",
   "execution_count": 515,
   "metadata": {},
   "outputs": [
    {
     "data": {
      "text/plain": [
       "198788"
      ]
     },
     "execution_count": 515,
     "metadata": {},
     "output_type": "execute_result"
    }
   ],
   "source": [
    "len(nodes)"
   ]
  },
  {
   "cell_type": "code",
   "execution_count": 516,
   "metadata": {
    "scrolled": true
   },
   "outputs": [
    {
     "data": {
      "text/plain": [
       "11748"
      ]
     },
     "execution_count": 516,
     "metadata": {},
     "output_type": "execute_result"
    }
   ],
   "source": [
    "clustering_big(parent, nodes, rank, length)"
   ]
  },
  {
   "cell_type": "code",
   "execution_count": null,
   "metadata": {},
   "outputs": [],
   "source": []
  }
 ],
 "metadata": {
  "kernelspec": {
   "display_name": "Python 3",
   "language": "python",
   "name": "python3"
  },
  "language_info": {
   "codemirror_mode": {
    "name": "ipython",
    "version": 3
   },
   "file_extension": ".py",
   "mimetype": "text/x-python",
   "name": "python",
   "nbconvert_exporter": "python",
   "pygments_lexer": "ipython3",
   "version": "3.6.5"
  }
 },
 "nbformat": 4,
 "nbformat_minor": 2
}
