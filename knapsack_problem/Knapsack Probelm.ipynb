{
 "cells": [
  {
   "cell_type": "code",
   "execution_count": 15,
   "metadata": {},
   "outputs": [],
   "source": [
    "#knapsack problem\n",
    "\n",
    "def knapsack(A, w, sz):\n",
    "    v = [[0 for i in range(sz + 1)] for j in range(len(A))] # best solution\n",
    "    for i in range(len(A)):\n",
    "        for j in range(sz+1):\n",
    "            if w[i] > j: # weight is larger allocated space\n",
    "                v[i][j] = v[i-1][j]\n",
    "            else:\n",
    "                v[i][j] = max(v[i-1][j], v[i-1][j- w[i]]+ A[i])\n",
    "    ans = []\n",
    "    col = sz\n",
    "    for row in range(len(A)-1, -1,-1):\n",
    "        if row ==0 and v[row][col] != 0:\n",
    "            ans.append(row)\n",
    "        if v[row][col] != v[row-1][col]:\n",
    "            ans.append(row)\n",
    "            col -= w[row]\n",
    "        \n",
    "    print(ans)\n",
    "    print(v[len(A)-1][sz])\n",
    "        \n",
    "                    "
   ]
  },
  {
   "cell_type": "code",
   "execution_count": 16,
   "metadata": {},
   "outputs": [
    {
     "name": "stdout",
     "output_type": "stream",
     "text": [
      "[2, 1, 0]\n",
      "13\n"
     ]
    }
   ],
   "source": [
    "knapsack([7,2,4,5],[3,1,2,4], 6)"
   ]
  },
  {
   "cell_type": "markdown",
   "metadata": {},
   "source": [
    "[knapsack_size][number_of_items]\n",
    "\n",
    "[value_1] [weight_1]\n",
    "\n",
    "[value_2] [weight_2]"
   ]
  },
  {
   "cell_type": "code",
   "execution_count": 21,
   "metadata": {},
   "outputs": [],
   "source": [
    "sz= 0\n",
    "value = []\n",
    "weight =[]\n",
    "\n",
    "with open('knapsack1.txt') as f:\n",
    "    i =0\n",
    "    for line in f.readlines():\n",
    "        if i == 0: \n",
    "            sz = int(line.split(' ')[0])\n",
    "            i += 1\n",
    "        else:\n",
    "            value.append(int(line.split(' ')[0]))\n",
    "            weight.append(int(line.split(' ')[1].split('\\n')[0]))\n",
    "            "
   ]
  },
  {
   "cell_type": "code",
   "execution_count": 23,
   "metadata": {},
   "outputs": [
    {
     "name": "stdout",
     "output_type": "stream",
     "text": [
      "[99, 98, 92, 91, 90, 88, 82, 79, 77, 76, 75, 74, 71, 68, 65, 61, 58, 57, 56, 53, 49, 45, 42, 41, 40, 36, 31, 28, 25, 24, 23, 18, 15, 14, 13, 10, 9, 8, 6, 5, 0]\n",
      "2493893\n"
     ]
    }
   ],
   "source": [
    "knapsack(value, weight, sz)"
   ]
  },
  {
   "cell_type": "code",
   "execution_count": 24,
   "metadata": {},
   "outputs": [],
   "source": [
    "sz= 0\n",
    "value = []\n",
    "weight =[]\n",
    "\n",
    "with open('knapsack_big.txt') as f:\n",
    "    i =0\n",
    "    for line in f.readlines():\n",
    "        if i == 0: \n",
    "            sz = int(line.split(' ')[0])\n",
    "            i += 1\n",
    "        else:\n",
    "            value.append(int(line.split(' ')[0]))\n",
    "            weight.append(int(line.split(' ')[1].split('\\n')[0]))"
   ]
  },
  {
   "cell_type": "code",
   "execution_count": 25,
   "metadata": {},
   "outputs": [
    {
     "data": {
      "text/plain": [
       "2000000"
      ]
     },
     "execution_count": 25,
     "metadata": {},
     "output_type": "execute_result"
    }
   ],
   "source": [
    "sz"
   ]
  },
  {
   "cell_type": "code",
   "execution_count": 26,
   "metadata": {},
   "outputs": [
    {
     "name": "stdout",
     "output_type": "stream",
     "text": [
      "[1989, 1980, 1973, 1905, 1893, 1887, 1853, 1831, 1820, 1806, 1721, 1713, 1623, 1607, 1590, 1572, 1548, 1531, 1460, 1342, 1284, 1275, 1190, 1185, 1163, 1086, 1057, 1008, 1007, 963, 955, 945, 921, 871, 868, 774, 767, 724, 667, 634, 619, 595, 533, 512, 498, 485, 468, 467, 422, 417, 394, 391, 365, 356, 308, 285, 266, 262, 97, 75, 64]\n",
      "4243395\n"
     ]
    }
   ],
   "source": [
    "knapsack(value, weight, sz)"
   ]
  },
  {
   "cell_type": "code",
   "execution_count": null,
   "metadata": {},
   "outputs": [],
   "source": []
  }
 ],
 "metadata": {
  "kernelspec": {
   "display_name": "Python 3",
   "language": "python",
   "name": "python3"
  },
  "language_info": {
   "codemirror_mode": {
    "name": "ipython",
    "version": 3
   },
   "file_extension": ".py",
   "mimetype": "text/x-python",
   "name": "python",
   "nbconvert_exporter": "python",
   "pygments_lexer": "ipython3",
   "version": "3.6.5"
  }
 },
 "nbformat": 4,
 "nbformat_minor": 2
}
