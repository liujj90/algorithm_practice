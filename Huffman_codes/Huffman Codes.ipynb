{
 "cells": [
  {
   "cell_type": "markdown",
   "metadata": {},
   "source": [
    "# Huffman codes"
   ]
  },
  {
   "cell_type": "code",
   "execution_count": 2,
   "metadata": {},
   "outputs": [],
   "source": [
    "# form of file \n",
    "# qn: maximum and minimum length of a code word\n",
    "#ans for example 1: Min length = 2\n",
    "# Max length = 5\n",
    "n = 10\n",
    "wt_list = [37,\n",
    "59,\n",
    "43,\n",
    "27,\n",
    "30,\n",
    "96,\n",
    "96,\n",
    "71,\n",
    "8,\n",
    "76]"
   ]
  },
  {
   "cell_type": "code",
   "execution_count": 34,
   "metadata": {},
   "outputs": [
    {
     "data": {
      "text/plain": [
       "[8, 27, 30, 37, 43, 59, 71, 76, 96, 96]"
      ]
     },
     "execution_count": 34,
     "metadata": {},
     "output_type": "execute_result"
    }
   ],
   "source": [
    "sorted(wt_list)"
   ]
  },
  {
   "cell_type": "markdown",
   "metadata": {},
   "source": [
    "### compression pseudocode\n",
    "- Make frequency dictionary\n",
    "- Make heap\n",
    "- Merge Nodes and build tree\n",
    "- Make codes\n",
    "- Encode Text\n",
    "- Pad encodded text\n",
    "- Make byte array\n",
    "- Output the byte array to binary file"
   ]
  },
  {
   "cell_type": "code",
   "execution_count": 3,
   "metadata": {},
   "outputs": [],
   "source": [
    "from math import *\n",
    "class min_heap(object):\n",
    "    def __init__(self):\n",
    "        self.values = []\n",
    "    def get_parent(self, ind):\n",
    "        return self.values[floor((ind-1)/2)]\n",
    "    def get_left(self, ind):\n",
    "        if len(self.values) <= ind*2+1:\n",
    "            return None\n",
    "        else:\n",
    "            return self.values[ind*2+1]\n",
    "    def get_right(self, ind):\n",
    "        if len(self.values) <= ind*2+2:\n",
    "            return None\n",
    "        else:\n",
    "            return self.values[ind*2+2]\n",
    "    def get_len(self):\n",
    "        return len(self.values)\n",
    "        \n",
    "    def min_heapify(self, ind):\n",
    "        # min_heap: A[parent] <= A [i]\n",
    "        l = ind*2+1\n",
    "        r = ind*2+2      \n",
    "\n",
    "        if l <= (len(self.values)-1) and self.values[l] < self.values[ind]:\n",
    "            smallest = l\n",
    "        else:\n",
    "            smallest = ind\n",
    "        \n",
    "        if r <= (len(self.values)-1) and self.values[r] < self.values[smallest]:\n",
    "            smallest = r\n",
    "        \n",
    "        if smallest != ind:\n",
    "            self.values[ind], self.values[smallest] = self.values[smallest], self.values[ind]\n",
    "            self.min_heapify(smallest)\n",
    "        \n",
    "    def heap_sort(self):\n",
    "        self.min_heapify(self.get_len())    \n",
    "    \n",
    "    def siftdown(self, start, end):\n",
    "        i = self.values[end]\n",
    "        while end>start:\n",
    "            parent = self.get_parent(end)\n",
    "            parentpos = floor((end-1)/2)\n",
    "            if parent > i:\n",
    "                self.values[end] = parent \n",
    "                end = parentpos\n",
    "                continue\n",
    "            break\n",
    "        self.values[end] = i\n",
    "        \n",
    "    def insert_val(self, val):\n",
    "        self.values.append(val) #append\n",
    "        self.siftdown(0, self.get_len()-1)\n",
    "        \n",
    "    def glimpse_min(self):\n",
    "        return self.values[0]\n",
    "    \n",
    "    def extract_min(self):\n",
    "        size = self.get_len()-1\n",
    "        self.values[size], self.values[0] = self.values[0], self.values[size]\n",
    "        # delete from heap\n",
    "        x = self.values.pop()\n",
    "        self.min_heapify(0)\n",
    "        return x"
   ]
  },
  {
   "cell_type": "code",
   "execution_count": 88,
   "metadata": {},
   "outputs": [],
   "source": [
    "def huffman(y):\n",
    "    parents = {weight: ind for ind, weight in enumerate(y)} \n",
    "    re_tree = dict()\n",
    "    x = min_heap()\n",
    "    for i in y:\n",
    "        x.insert_val(i)\n",
    "    while x.get_len() > 1:\n",
    "        l1 = x.extract_min()\n",
    "        l2 = x.extract_min()\n",
    "        new_wt = l1 + l2\n",
    "        # construct new tree where ind = new_wt, \n",
    "        re_tree[new_wt] = [l1,l2]\n",
    "        x.insert_val(new_wt)\n",
    "    counter = 0\n",
    "    for key, value in re_tree.items():\n",
    "        for i in value:\n",
    "            if i in y:\n",
    "                counter+=1\n",
    "                break\n",
    "    \n",
    "    return counter\n",
    "    "
   ]
  },
  {
   "cell_type": "code",
   "execution_count": 89,
   "metadata": {
    "scrolled": false
   },
   "outputs": [
    {
     "data": {
      "text/plain": [
       "7"
      ]
     },
     "execution_count": 89,
     "metadata": {},
     "output_type": "execute_result"
    }
   ],
   "source": [
    "huffman(wt_list)"
   ]
  },
  {
   "cell_type": "code",
   "execution_count": null,
   "metadata": {},
   "outputs": [],
   "source": []
  }
 ],
 "metadata": {
  "kernelspec": {
   "display_name": "Python 3",
   "language": "python",
   "name": "python3"
  },
  "language_info": {
   "codemirror_mode": {
    "name": "ipython",
    "version": 3
   },
   "file_extension": ".py",
   "mimetype": "text/x-python",
   "name": "python",
   "nbconvert_exporter": "python",
   "pygments_lexer": "ipython3",
   "version": "3.6.5"
  }
 },
 "nbformat": 4,
 "nbformat_minor": 2
}
